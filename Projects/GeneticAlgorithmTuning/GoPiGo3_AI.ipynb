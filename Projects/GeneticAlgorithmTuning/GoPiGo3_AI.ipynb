{
 "cells": [
  {
   "cell_type": "markdown",
   "metadata": {},
   "source": [
    "- copelia\n",
    "- Algoritmo genético\n",
    "- PID"
   ]
  },
  {
   "cell_type": "code",
   "execution_count": 1,
   "metadata": {},
   "outputs": [],
   "source": [
    "# Importing libraries...\n",
    "import time\n",
    "import numpy as np\n",
    "from coppeliasim_zmqremoteapi_client import RemoteAPIClient\n",
    "\n",
    "from GoPiGo3 import GoPiGo3\n",
    "\n",
    "# Init client\n",
    "client = RemoteAPIClient()  # Client object\n",
    "sim = client.getObject(\"sim\")  # Simulation object"
   ]
  },
  {
   "cell_type": "markdown",
   "metadata": {},
   "source": [
    "## Funções fundamentais para algoritmos genéticos"
   ]
  },
  {
   "cell_type": "code",
   "execution_count": null,
   "metadata": {},
   "outputs": [],
   "source": [
    "# gera uma matriz com valores aleatórios para cada parametro do indiviudo\n",
    "def init_population(population_size:int, genome_lenght:int)->np.ndarray:\n",
    "    return np.random.uniform(0.0, 3.0, (population_size, genome_lenght))"
   ]
  },
  {
   "cell_type": "code",
   "execution_count": null,
   "metadata": {},
   "outputs": [],
   "source": [
    "# modifica aleatóriamente os pesos de forma proporcional\n",
    "def mutate(genome:np.ndarray, mutation_rate:float)->np.ndaray:\n",
    "    new_genome = genome * np.random.uniform(1.0 - mutation_rate, 1.0 + mutation_rate, len(genome)) # It can drop or rise by 25%\n",
    "    return new_genome\n",
    "\n",
    "# modifica aleatoriamente os pesos de forma aditiva\n",
    "def mutateAdditive(genome:np.ndarray, mutation_rate:float)->np.ndaray:\n",
    "    new_genome = genome + np.random.uniform(1.0 - mutation_rate, 1.0 + mutation_rate, len(genome))\n",
    "    return new_genome\n",
    "\n",
    "# modica aleatoriamente os pesos de forma binaria\n",
    "def mutateBinary(genome:np.ndarray, mutation_rate:float, ammount:float)->np.ndaray:\n",
    "    new_genome = genome + ammount*np.random.choice(2, len(genome),p=[1.0-mutation_rate,mutation_rate])\n",
    "    return new_genome"
   ]
  },
  {
   "cell_type": "code",
   "execution_count": null,
   "metadata": {},
   "outputs": [],
   "source": [
    "# tem uma chance de misturar os genomas\n",
    "# quando misturar seleciona um ponto de corte aleatório\n",
    "# Aa + Bb -> Ab + Ba\n",
    "def crossover(genome_x:np.ndarray, genome_y:np.ndarray, crossover_rate:float)->tuple[np.ndarray,np.ndarray]:\n",
    "    if np.random.rand() < crossover_rate:\n",
    "        c = np.random.randint(0, len(genome_x) - 1)\n",
    "\n",
    "        return np.concatenate((genome_x[:c], genome_y[c:])), np.concatenate((genome_y[:c], genome_x[c:]))\n",
    "    else:\n",
    "        return genome_x, genome_y\n"
   ]
  },
  {
   "cell_type": "code",
   "execution_count": null,
   "metadata": {},
   "outputs": [],
   "source": [
    "# calcula de acordo com pesos passados uma pontuação para os resultados\n",
    "def get_fitness(metrics:np.ndarray, weights:np.ndarray)->float:\n",
    "    return np.dot(metrics, weights)"
   ]
  },
  {
   "cell_type": "code",
   "execution_count": 2,
   "metadata": {},
   "outputs": [],
   "source": [
    "# com a pontuação de cada filho seleciona novos individuos para a nova geração\n",
    "def pick_fittest(population:np.ndarray, fitness_values:np.ndarray)->np.ndarray:\n",
    "    return population[np.argsort(fitness_values)][-2:]\n",
    "\n",
    "#com a pontuação de cada filho seleciona novos individuos para a nova geração de forma ponderada\n",
    "def pick_wheigted_fittest(population:np.ndarray, fitness_values:np.ndarray)->np.ndarray:\n",
    "    return np.random.choice(population, 2,p=fitness_values/fitness_values.sum())"
   ]
  },
  {
   "cell_type": "code",
   "execution_count": 3,
   "metadata": {},
   "outputs": [],
   "source": [
    "# Resetting Individuals\n",
    "def reset_individuals(population_size):\n",
    "    while True:\n",
    "        try:\n",
    "            sim.removeModel(sim.getObject(f\"/Individual[1]\"))\n",
    "        except:\n",
    "            break\n",
    "\n",
    "    base_handle = sim.getObject(\"/Individual\")\n",
    "    for _ in range(population_size - 1):\n",
    "        sim.copyPasteObjects([base_handle], 1)"
   ]
  },
  {
   "cell_type": "code",
   "execution_count": null,
   "metadata": {},
   "outputs": [],
   "source": [
    "# Simulation batch\n",
    "simulation_time = 5.0\n",
    "target_lower_bound = 0.1\n",
    "target_higher_bound = 1.0\n",
    "\n",
    "generations = 50\n",
    "population_size = 10\n",
    "crossover_rate = 0.10\n",
    "mutation_rate = 0.10\n",
    "weights = np.array([-40.0, -1.0, -20.0, -50.0, -50.0])\n",
    "\n",
    "population = np.repeat([[3.0, 0.001, 0.01, 1.0, 0.001, 0.01]], population_size, axis=0)\n",
    "population = init_population(population_size, 6)\n",
    "fitness_values = None\n",
    "\n",
    "reset_individuals(population_size)\n",
    "\n",
    "for generation, (x, y) in enumerate(np.random.uniform(-0.5, 0.5, (generations, 2))):\n",
    "    print(f\"Generation {generation}: Target at x={x:.2f} ; y={y:.2f} m\")\n",
    "\n",
    "    sim.setObjectPosition(\n",
    "        sim.getObject('/Target'),\n",
    "        [x, y, 0.05]\n",
    "    )\n",
    "\n",
    "    robot_population = [\n",
    "        GoPiGo3(\n",
    "            simulation_object=sim,\n",
    "            handle_name=f\"/Individual[{i}]/GoPiGo3\",\n",
    "            target_handle_name=\"/Target\",\n",
    "            genome=genome\n",
    "        )\n",
    "        \n",
    "        for i, genome in enumerate(population)\n",
    "    ]\n",
    "\n",
    "    try:\n",
    "        sim.setStepping(True)  # Trigger simulation step manually\n",
    "\n",
    "        # Start simulation\n",
    "        sim.startSimulation()\n",
    "\n",
    "        while sim.getSimulationTime() < simulation_time:\n",
    "            for robot in robot_population:\n",
    "                \n",
    "                robot.sense_and_actuate()\n",
    "\n",
    "            sim.step() # Call for next step\n",
    "\n",
    "        # Stop simulation\n",
    "        sim.stopSimulation()\n",
    "        time.sleep(1.0) # Wait for simulation to stop\n",
    "\n",
    "    except:\n",
    "        pass\n",
    "    \n",
    "    # Get fitnes of every individual of the population\n",
    "    fitness_values = [get_fitness(robot.get_metrics(), weights) for robot in robot_population]\n",
    "\n",
    "    for robot, fitness_value in zip(robot_population, fitness_values):\n",
    "        metrics = robot.get_metrics()\n",
    "        \n",
    "        print(f\"Not converged: {robot.not_converged}\") \n",
    "        print(f\"Convergence time: {robot.convergence_time:.2f}\") \n",
    "        print(f\"Target distance: {robot.target_distance:.2f}\") \n",
    "        print(f\"Max roll: {robot.max_roll:.3f}\") \n",
    "        print(f\"Max pitch: {robot.max_pitch:.3f}\") \n",
    "        print()\n",
    "        print(robot.genome)\n",
    "        print()\n",
    "        print(f\"Fitness: {fitness_value:.2f}\", '\\n\\n')\n",
    "\n",
    "    # Pick fittest and have them make them have offspring\n",
    "    parent_x, parent_y = pick_fittest(population, fitness_values)\n",
    "\n",
    "    # If it is on last generation, do not crossover and mutate\n",
    "    if generation >= generations - 1:\n",
    "        break\n",
    "\n",
    "    # Make a new population based on variants of the most adapted individuals \n",
    "    new_population = []\n",
    "    offspring_x, offspring_y = crossover(parent_x, parent_y, crossover_rate)\n",
    "\n",
    "    for _ in range(population_size // 2):\n",
    "        new_population.append(mutate(offspring_x, mutation_rate))\n",
    "        new_population.append(mutate(offspring_y, mutation_rate))\n",
    "\n",
    "    # Update population\n",
    "    population = np.array(new_population)"
   ]
  },
  {
   "cell_type": "code",
   "execution_count": null,
   "metadata": {},
   "outputs": [],
   "source": [
    "# Create the controller\n",
    "genome = pick_fittest(population, fitness_values)[-1] # Pick fittest genome\n",
    "\n",
    "print(genome)\n",
    "\n",
    "reset_individuals(1)\n",
    "\n",
    "robot = GoPiGo3(\n",
    "    simulation_object=sim,\n",
    "    handle_name=\"/Individual/GoPiGo3\",\n",
    "    target_handle_name=\"/Target\",\n",
    "    genome=genome\n",
    ")\n",
    "\n",
    "try:\n",
    "    sim.setStepping(True)  # Trigger simulation step manually\n",
    "\n",
    "    # Start simulation\n",
    "    sim.startSimulation()\n",
    "    \n",
    "    while not sim.getSimulationStopping():\n",
    "        robot.sense_and_actuate()\n",
    "        sim.step()\n",
    "\n",
    "    # Stop simulation\n",
    "    sim.stopSimulation()\n",
    "\n",
    "except:\n",
    "    pass"
   ]
  }
 ],
 "metadata": {
  "kernelspec": {
   "display_name": "Python 3",
   "language": "python",
   "name": "python3"
  },
  "language_info": {
   "codemirror_mode": {
    "name": "ipython",
    "version": 3
   },
   "file_extension": ".py",
   "mimetype": "text/x-python",
   "name": "python",
   "nbconvert_exporter": "python",
   "pygments_lexer": "ipython3",
   "version": "3.12.0"
  }
 },
 "nbformat": 4,
 "nbformat_minor": 2
}
